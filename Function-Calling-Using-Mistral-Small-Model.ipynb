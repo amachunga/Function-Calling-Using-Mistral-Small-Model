{
 "cells": [
  {
   "cell_type": "markdown",
   "metadata": {},
   "source": [
    "# Function Calling with Mistral AI Models\n",
    "\n",
    "* Mistral AI models can connect to external tools by a method called **function calling**. In this example, I will be connecting the **Mistral Small model** to two user defined functions.\n",
    "* This example is targetted at **Shipping companies** whose customers want to know the status of their ordered items.\n",
    "\n",
    "Mistral AI Models Available for function calling:\n",
    "* Mistral Large\n",
    "* Mistral Small\n",
    "* Codestral\n",
    "* Ministral 8B\n",
    "* Ministral 3B\n",
    "* Pixtral 12B\n",
    "* Pixtral Large\n",
    "* Mistral Nemo\n",
    "\n",
    "Function Calling Steps:\n",
    "* User: Specify tools and query\n",
    "* Model: Generate function arguments if applicable\n",
    "* User: Execute Function to obtain tool results\n",
    "* Model: Generate Final Answer\n",
    "\n",
    "\n",
    "Resources:\n",
    "1. https://docs.mistral.ai/capabilities/function_calling/\n",
    "\n",
    "\n",
    "\n"
   ]
  },
  {
   "cell_type": "code",
   "execution_count": 1,
   "metadata": {},
   "outputs": [
    {
     "name": "stdout",
     "output_type": "stream",
     "text": [
      "  order_id customer_id  shipping_cost shipping_date shipping_status\n",
      "0    A0001       CM001           50.5    2025-10-05         Shipped\n",
      "1    A0002       CM002           30.5    2025-10-06      Processing\n",
      "2    A0003       CM003           20.6    2025-10-07       Delivered\n",
      "3    A0004       CM002           10.4    2025-10-05         Shipped\n",
      "4    A0005       CM001           35.2    2025-10-08      Processing\n"
     ]
    }
   ],
   "source": [
    "# Importing the pandas library\n",
    "import pandas as pd\n",
    "\n",
    "# Assuming we have the following data\n",
    "data = {\n",
    "    'order_id': ['A0001', 'A0002', 'A0003', 'A0004', 'A0005'],\n",
    "    'customer_id': ['CM001', 'CM002', 'CM003', 'CM002', 'CM001'],\n",
    "    'shipping_cost': [50.50, 30.50, 20.60, 10.40, 35.20],\n",
    "    'shipping_date': ['2025-10-05', '2025-10-06', '2025-10-07', '2025-10-05', '2025-10-08'],\n",
    "    'shipping_status': ['Shipped', 'Processing', 'Delivered', 'Shipped', 'Processing']\n",
    "}\n",
    "\n",
    "# Create DataFrame\n",
    "df = pd.DataFrame(data)\n",
    "print(df)"
   ]
  },
  {
   "cell_type": "markdown",
   "metadata": {},
   "source": [
    "## Step 1. User: specify tools and query\n",
    "Tools:\n",
    "* Shipping Status\n",
    "* Shipping Date\n",
    "\n",
    "User Query:\n",
    "* What is the Status of my order? My order ID is A0002"
   ]
  },
  {
   "cell_type": "markdown",
   "metadata": {},
   "source": [
    "### Tools\n",
    "I considered the two functions below:\n",
    "* retrieve_shipping_status\n",
    "* retrieve_shipping_date\n",
    "\n"
   ]
  },
  {
   "cell_type": "code",
   "execution_count": 2,
   "metadata": {},
   "outputs": [],
   "source": [
    "# Retrieve shipping status\n",
    "def retrieve_shipping_status(df: data, order_id: str) -> str:\n",
    "    if order_id in df.order_id.values: \n",
    "        return json.dumps({'status': df[df.order_id == order_id].shipping_status.item()})\n",
    "    return json.dumps({'error': 'order id not found.'})\n",
    "\n",
    "# Retrieve shipping date\n",
    "def retrieve_shipping_date(df: data, shipping_id: str) -> str:\n",
    "    if order_id in df.order_id.values: \n",
    "        return json.dumps({'date': df[df.order_id == order_id].shipping_date.item()})\n",
    "    return json.dumps({'error': 'order id not found.'})"
   ]
  },
  {
   "cell_type": "code",
   "execution_count": 3,
   "metadata": {},
   "outputs": [],
   "source": [
    "#  Describe the type, function name, function description, function parameters, and the required parameter for the two functions in JSON format\n",
    "tools = [\n",
    "    {\n",
    "        \"type\": \"function\",\n",
    "        \"function\": {\n",
    "            \"name\": \"retrieve_shipping_status\",\n",
    "            \"description\": \"Get shipping status of order\",\n",
    "            \"parameters\": {\n",
    "                \"type\": \"object\",\n",
    "                \"properties\": {\n",
    "                    \"order_id\": {\n",
    "                        \"type\": \"string\",\n",
    "                        \"description\": \"The order id.\",\n",
    "                    }\n",
    "                },\n",
    "                \"required\": [\"order_id\"],\n",
    "            },\n",
    "        },\n",
    "    },\n",
    "    {\n",
    "        \"type\": \"function\",\n",
    "        \"function\": {\n",
    "            \"name\": \"retrieve_shipping_date\",\n",
    "            \"description\": \"Get shipping date of a order\",\n",
    "            \"parameters\": {\n",
    "                \"type\": \"object\",\n",
    "                \"properties\": {\n",
    "                    \"order_id\": {\n",
    "                        \"type\": \"string\",\n",
    "                        \"description\": \"The order id.\",\n",
    "                    }\n",
    "                },\n",
    "                \"required\": [\"order_id\"],\n",
    "            },\n",
    "        },\n",
    "    }\n",
    "]"
   ]
  },
  {
   "cell_type": "code",
   "execution_count": 4,
   "metadata": {},
   "outputs": [],
   "source": [
    "# Create Dictionary of the two Functions\n",
    "import functools\n",
    "\n",
    "names_to_functions = {\n",
    "    'retrieve_shipping_status': functools.partial(retrieve_shipping_status, df=df),\n",
    "    'retrieve_shipping_date': functools.partial(retrieve_shipping_date, df=df)\n",
    "}"
   ]
  },
  {
   "cell_type": "markdown",
   "metadata": {},
   "source": [
    "### User Query"
   ]
  },
  {
   "cell_type": "code",
   "execution_count": 5,
   "metadata": {},
   "outputs": [],
   "source": [
    "messages = [{\"role\": \"user\", \"content\": \"What's the status of my order A0002?\"}]"
   ]
  },
  {
   "cell_type": "markdown",
   "metadata": {},
   "source": [
    "## Step 2. Model: Generate function arguments\n",
    "\n",
    "* Provide both the user query and tools specification to the mistral model. \n",
    "\n",
    "The goal of this step is to:\n",
    "1. Determine the appropriate function to use.\n",
    "2. identify if there is any essential information missing for a function.\n",
    "3. generate necessary arguments for the chosen function."
   ]
  },
  {
   "cell_type": "code",
   "execution_count": null,
   "metadata": {},
   "outputs": [
    {
     "data": {
      "text/plain": [
       "ChatCompletionResponse(id='8b9d2954f70a4edf8bcf727ae16a5a9e', object='chat.completion', model='mistral-small-latest', usage=UsageInfo(prompt_tokens=156, completion_tokens=27, total_tokens=183), created=1740148855, choices=[ChatCompletionChoice(index=0, message=AssistantMessage(content='', tool_calls=[ToolCall(function=FunctionCall(name='retrieve_shipping_status', arguments='{\"order_id\": \"A0002\"}'), id='cRF8ozJlV', type=None, index=0)], prefix=False, role='assistant'), finish_reason='tool_calls')])"
      ]
     },
     "execution_count": 6,
     "metadata": {},
     "output_type": "execute_result"
    }
   ],
   "source": [
    "from mistralai import Mistral\n",
    "\n",
    "api_key ='API_KEY'\n",
    "model = \"mistral-small-latest\"\n",
    "\n",
    "client = Mistral(api_key=api_key)\n",
    "response = client.chat.complete(\n",
    "    model = model,\n",
    "    messages = messages,\n",
    "    tools = tools,\n",
    "    tool_choice = \"any\", # Forces tool use \n",
    ")\n",
    "response"
   ]
  },
  {
   "cell_type": "code",
   "execution_count": 7,
   "metadata": {},
   "outputs": [],
   "source": [
    "# Add response to the message list\n",
    "messages.append(response.choices[0].message)"
   ]
  },
  {
   "cell_type": "markdown",
   "metadata": {},
   "source": [
    "## Step 3. User: Execute function to obtain tool results"
   ]
  },
  {
   "cell_type": "code",
   "execution_count": 8,
   "metadata": {},
   "outputs": [
    {
     "name": "stdout",
     "output_type": "stream",
     "text": [
      "\n",
      "function_name:  retrieve_shipping_status \n",
      "function_params:  {'order_id': 'A0002'}\n"
     ]
    }
   ],
   "source": [
    "#Extract the function name and parameters from the response\n",
    "import json\n",
    "\n",
    "tool_call = response.choices[0].message.tool_calls[0]\n",
    "function_name = tool_call.function.name\n",
    "function_params = json.loads(tool_call.function.arguments)\n",
    "print(\"\\nfunction_name: \", function_name, \"\\nfunction_params: \", function_params)"
   ]
  },
  {
   "cell_type": "code",
   "execution_count": 9,
   "metadata": {},
   "outputs": [
    {
     "data": {
      "text/plain": [
       "'{\"status\": \"Processing\"}'"
      ]
     },
     "execution_count": 9,
     "metadata": {},
     "output_type": "execute_result"
    }
   ],
   "source": [
    "#Execute the function to get the output\n",
    "function_result = names_to_functions[function_name](**function_params)\n",
    "function_result"
   ]
  },
  {
   "cell_type": "markdown",
   "metadata": {},
   "source": [
    "## Step 4. Model: Generate final answer"
   ]
  },
  {
   "cell_type": "code",
   "execution_count": 10,
   "metadata": {},
   "outputs": [
    {
     "data": {
      "text/plain": [
       "'Your order A0002 is currently being processed.'"
      ]
     },
     "execution_count": 10,
     "metadata": {},
     "output_type": "execute_result"
    }
   ],
   "source": [
    "# Final response of the model\n",
    "messages.append({\"role\":\"tool\", \"name\":function_name, \"content\":function_result, \"tool_call_id\":tool_call.id})\n",
    "\n",
    "response = client.chat.complete(\n",
    "    model = model, \n",
    "    messages = messages\n",
    ")\n",
    "response.choices[0].message.content"
   ]
  },
  {
   "cell_type": "markdown",
   "metadata": {},
   "source": [
    " TIP: You can try other models and adapt this example for other use cases just like I customized mine targeting shipping companies."
   ]
  }
 ],
 "metadata": {
  "kernelspec": {
   "display_name": "Python 3",
   "language": "python",
   "name": "python3"
  },
  "language_info": {
   "codemirror_mode": {
    "name": "ipython",
    "version": 3
   },
   "file_extension": ".py",
   "mimetype": "text/x-python",
   "name": "python",
   "nbconvert_exporter": "python",
   "pygments_lexer": "ipython3",
   "version": "3.12.1"
  }
 },
 "nbformat": 4,
 "nbformat_minor": 2
}
